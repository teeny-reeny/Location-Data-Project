{
 "cells": [
  {
   "cell_type": "markdown",
   "metadata": {},
   "source": [
    "# Problem Statement and Background"
   ]
  },
  {
   "cell_type": "markdown",
   "metadata": {},
   "source": [
    "### Problem Statement\n",
    "\n",
    "The purpose of this capstone project is to compare the ratings of restaurants between New York and Chicago to see which city has the better overall review for food.\n",
    "\n",
    "### Background\n",
    "\n",
    "I have heard a lot of conversations where there are comparisons between New York City and Chicago in terms of food. I think that this sparks a big debate because of how diverse these two cities are. The most common food debate that I will hear about is Pizza. I am curious to see what the reviews for pizza are in both cities and am looking forward to how the overall food reviews compare to each other. With this data analysis, I hope to get to the bottom of the debate and use this information as evidence the next time I hear the debate spark up again.\n",
    "\n",
    "### Data Description\n",
    "\n",
    "I plan to use the data scraped from venues in New York City as well as the venues in Chicago. I will keep the radius consistent and as close as possible to the cities and then categorize the outputs based on restaurant type as well as rating. Then from there I will Cluster as much of the data as I can before comparing the 2 cities on a map as well as graph. From here, I will then look at the overall ratings between categories and list which city has better reviews and then which city had the higher overall average rating."
   ]
  },
  {
   "cell_type": "code",
   "execution_count": null,
   "metadata": {},
   "outputs": [],
   "source": []
  },
  {
   "cell_type": "code",
   "execution_count": null,
   "metadata": {},
   "outputs": [],
   "source": []
  },
  {
   "cell_type": "code",
   "execution_count": null,
   "metadata": {},
   "outputs": [],
   "source": []
  },
  {
   "cell_type": "code",
   "execution_count": null,
   "metadata": {},
   "outputs": [],
   "source": []
  },
  {
   "cell_type": "code",
   "execution_count": null,
   "metadata": {},
   "outputs": [],
   "source": []
  }
 ],
 "metadata": {
  "kernelspec": {
   "display_name": "Python 3",
   "language": "python",
   "name": "python3"
  },
  "language_info": {
   "codemirror_mode": {
    "name": "ipython",
    "version": 3
   },
   "file_extension": ".py",
   "mimetype": "text/x-python",
   "name": "python",
   "nbconvert_exporter": "python",
   "pygments_lexer": "ipython3",
   "version": "3.7.6"
  }
 },
 "nbformat": 4,
 "nbformat_minor": 4
}
